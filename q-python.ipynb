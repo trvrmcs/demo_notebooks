{
 "cells": [
  {
   "cell_type": "markdown",
   "metadata": {},
   "source": [
    "# Reproduce the **q** code in Python, as 'functionally' as possible"
   ]
  },
  {
   "cell_type": "code",
   "execution_count": 108,
   "metadata": {},
   "outputs": [],
   "source": [
    "from operator import add\n",
    "from functools import partial\n",
    "from numpy import array, insert"
   ]
  },
  {
   "cell_type": "code",
   "execution_count": 124,
   "metadata": {},
   "outputs": [],
   "source": [
    "def shift(a):   return insert(a,0,0)[:-1]\n",
    "def deltas (a): return a - shift(a)  # We CAN do this purely functionally but it's much more verbose"
   ]
  },
  {
   "cell_type": "code",
   "execution_count": 125,
   "metadata": {},
   "outputs": [],
   "source": [
    "# implement sums and mins in a functional way\n",
    "def scanl_(f, base, l):\n",
    "    for x in l:\n",
    "        base = f(base, x)\n",
    "        yield base # this would be done with recursion in a purely functional world.\n",
    "scanl = lambda f,base,l: array(list(scanl_(f,base,l)))\n",
    "sums  = partial(scanl,add,0)\n",
    "mins  = lambda x,l:array(list(map(partial(min,x),l)))"
   ]
  },
  {
   "cell_type": "markdown",
   "metadata": {},
   "source": [
    "### Reproduce the following Q code"
   ]
  },
  {
   "cell_type": "markdown",
   "metadata": {},
   "source": [
    "```q\n",
    "\n",
    "q)buys:2 1 3 4 5 2 6f\n",
    "q)buys\n",
    "2 1 3 4 5 2 6f\n",
    "q)count buys\n",
    "7\n",
    "q)sell:12\n",
    "q)sums buys\n",
    "2 3 6 10 15 17 23f\n",
    "q)sell\n",
    "12\n",
    "q)sell & sums buys\n",
    "2 3 6 10 12 12 12f\n",
    "q)deltas sell & sums buys\n",
    "2 1 3 4 2 0 0f\n",
    "q)buys\n",
    "2 1 3 4 5 2 6f\n",
    "q)buys - (deltas sell & sums buys)\n",
    "0 0 0 0 3 2 6f\n",
    "\n",
    "```\n",
    "\n"
   ]
  },
  {
   "cell_type": "code",
   "execution_count": 126,
   "metadata": {},
   "outputs": [],
   "source": [
    "buys = array([2,1,3,4,5,2,6])\n",
    "sell = 12"
   ]
  },
  {
   "cell_type": "code",
   "execution_count": 127,
   "metadata": {},
   "outputs": [
    {
     "name": "stdout",
     "output_type": "stream",
     "text": [
      "\n",
      "q)buys\n",
      "[2 1 3 4 5 2 6]\n",
      "q)count buys\n",
      "7\n",
      "q)sums buys\n",
      "[ 2  3  6 10 15 17 23]\n",
      "q)sell\n",
      "12\n",
      "q)sell & sums buys\n",
      "[ 2  3  6 10 12 12 12]\n",
      "q)deltas sell & sums buys\n",
      "[2 1 3 4 2 0 0]\n",
      "q)buys - (deltas sell & sums buys)\n",
      "[0 0 0 0 3 2 6]\n",
      "\n"
     ]
    }
   ],
   "source": [
    "print(f'''\n",
    "q)buys\n",
    "{buys}\n",
    "q)count buys\n",
    "{len(buys)}\n",
    "q)sums buys\n",
    "{sums(buys)}\n",
    "q)sell\n",
    "{sell}\n",
    "q)sell & sums buys\n",
    "{mins(sell, (sums(buys)))}\n",
    "q)deltas sell & sums buys\n",
    "{deltas(mins(sell, (sums(buys))))}\n",
    "q)buys - (deltas sell & sums buys)\n",
    "{buys - deltas(mins(sell,(sums(buys))))}\n",
    "''')"
   ]
  },
  {
   "cell_type": "code",
   "execution_count": null,
   "metadata": {},
   "outputs": [],
   "source": []
  }
 ],
 "metadata": {
  "kernelspec": {
   "display_name": "Python 3",
   "language": "python",
   "name": "python3"
  },
  "language_info": {
   "codemirror_mode": {
    "name": "ipython",
    "version": 3
   },
   "file_extension": ".py",
   "mimetype": "text/x-python",
   "name": "python",
   "nbconvert_exporter": "python",
   "pygments_lexer": "ipython3",
   "version": "3.6.10"
  }
 },
 "nbformat": 4,
 "nbformat_minor": 4
}
