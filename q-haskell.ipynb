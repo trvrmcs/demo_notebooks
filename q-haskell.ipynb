{
 "cells": [
  {
   "cell_type": "markdown",
   "metadata": {},
   "source": [
    "```python\n",
    "# implement sums and mins in a functional way\n",
    "def scanl_(f, base, l):\n",
    "    for x in l:\n",
    "        base = f(base, x)\n",
    "        yield base # this would be done with recursion in a purely functional world.\n",
    "scanl = lambda f,base,l: array(list(scanl_(f,base,l)))\n",
    "sums  = partial(scanl,add,0)\n",
    "mins  = lambda x,l:array(list(map(partial(min,x),l)))\n",
    "```"
   ]
  },
  {
   "cell_type": "code",
   "execution_count": 17,
   "metadata": {},
   "outputs": [],
   "source": [
    "sums l = tail $ scanl (+) 0 l\n",
    "mins x = map (min x)\n",
    "deltas l = zipWith (-) l (0: init l)"
   ]
  },
  {
   "cell_type": "code",
   "execution_count": 5,
   "metadata": {},
   "outputs": [],
   "source": [
    "buys=[2,1,3,4,5,2,6]\n",
    "sell=12"
   ]
  },
  {
   "cell_type": "markdown",
   "metadata": {},
   "source": [
    "```q\n",
    "q)buys:2 1 3 4 5 2 6f\n",
    "q)buys\n",
    "2 1 3 4 5 2 6f\n",
    "q)count buys\n",
    "7\n",
    "q)sell:12\n",
    "q)sums buys\n",
    "2 3 6 10 15 17 23f\n",
    "q)sell\n",
    "12\n",
    "q)sell & sums buys\n",
    "2 3 6 10 12 12 12f\n",
    "q)deltas sell & sums buys\n",
    "2 1 3 4 2 0 0f\n",
    "q)buys\n",
    "2 1 3 4 5 2 6f\n",
    "q)buys - (deltas sell & sums buys)\n",
    "0 0 0 0 3 2 6f\n",
    "\n",
    "```"
   ]
  },
  {
   "cell_type": "code",
   "execution_count": 6,
   "metadata": {},
   "outputs": [
    {
     "data": {
      "text/plain": [
       "[2,1,3,4,5,2,6]"
      ]
     },
     "metadata": {},
     "output_type": "display_data"
    }
   ],
   "source": [
    "buys"
   ]
  },
  {
   "cell_type": "code",
   "execution_count": 7,
   "metadata": {},
   "outputs": [
    {
     "data": {
      "text/plain": [
       "7"
      ]
     },
     "metadata": {},
     "output_type": "display_data"
    }
   ],
   "source": [
    "length buys"
   ]
  },
  {
   "cell_type": "code",
   "execution_count": 36,
   "metadata": {},
   "outputs": [
    {
     "data": {
      "text/plain": [
       "[2,3,6,10,15,17,23]"
      ]
     },
     "metadata": {},
     "output_type": "display_data"
    }
   ],
   "source": [
    "sums buys"
   ]
  },
  {
   "cell_type": "code",
   "execution_count": 37,
   "metadata": {},
   "outputs": [
    {
     "data": {
      "text/plain": [
       "[2,3,6,10,12,12,12]"
      ]
     },
     "metadata": {},
     "output_type": "display_data"
    }
   ],
   "source": [
    "sell `mins` sums buys"
   ]
  },
  {
   "cell_type": "code",
   "execution_count": 57,
   "metadata": {},
   "outputs": [
    {
     "data": {
      "text/plain": [
       "[2,1,3,4,2,0,0]"
      ]
     },
     "metadata": {},
     "output_type": "display_data"
    }
   ],
   "source": [
    "deltas $ sell `mins` sums buys"
   ]
  },
  {
   "cell_type": "code",
   "execution_count": 59,
   "metadata": {},
   "outputs": [
    {
     "data": {
      "text/plain": [
       "[0,0,0,0,-3,-2,-6]"
      ]
     },
     "metadata": {},
     "output_type": "display_data"
    }
   ],
   "source": [
    "zipWith subtract buys (deltas $ sell `mins` sums buys)"
   ]
  }
 ],
 "metadata": {
  "kernelspec": {
   "display_name": "Haskell",
   "language": "haskell",
   "name": "haskell"
  },
  "language_info": {
   "codemirror_mode": "ihaskell",
   "file_extension": ".hs",
   "name": "haskell",
   "pygments_lexer": "Haskell",
   "version": "8.6.5"
  }
 },
 "nbformat": 4,
 "nbformat_minor": 4
}
