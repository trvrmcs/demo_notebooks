{
 "cells": [
  {
   "cell_type": "markdown",
   "id": "republican-atlas",
   "metadata": {},
   "source": [
    "# SIGMA algebras"
   ]
  },
  {
   "cell_type": "code",
   "execution_count": 1,
   "id": "sensitive-administrator",
   "metadata": {},
   "outputs": [],
   "source": [
    "import itertools\n",
    "import fractions"
   ]
  },
  {
   "cell_type": "code",
   "execution_count": 2,
   "id": "ideal-mandate",
   "metadata": {},
   "outputs": [],
   "source": [
    "def complement(s):\n",
    "    return Omega-s"
   ]
  },
  {
   "cell_type": "code",
   "execution_count": 3,
   "id": "about-dominican",
   "metadata": {},
   "outputs": [],
   "source": [
    "def union(sets):\n",
    "    s1=set()\n",
    "    for s in sets:\n",
    "        s1=s1.union(s)\n",
    "    return frozenset(s1)"
   ]
  },
  {
   "cell_type": "markdown",
   "id": "accepted-hometown",
   "metadata": {},
   "source": [
    "Any sequence of set belonging to F, their union belongs to F"
   ]
  },
  {
   "cell_type": "code",
   "execution_count": 4,
   "id": "about-theater",
   "metadata": {},
   "outputs": [],
   "source": [
    "Omega=set([\n",
    "    f'{rank}{suit}'\n",
    "    for suit in ['♠','♥','♦','♣']\n",
    "    for rank in [\"A\",\"2\",\"3\",\"4\",\"5\",\"6\",\"7\",\"8\",\"9\" ,\"10\",\"J\",\"Q\",\"K\"]\n",
    "])"
   ]
  },
  {
   "cell_type": "code",
   "execution_count": 6,
   "id": "stylish-papua",
   "metadata": {},
   "outputs": [
    {
     "data": {
      "text/plain": [
       "set()"
      ]
     },
     "execution_count": 6,
     "metadata": {},
     "output_type": "execute_result"
    }
   ],
   "source": [
    "complement(Omega)"
   ]
  },
  {
   "cell_type": "code",
   "execution_count": 9,
   "id": "continent-developer",
   "metadata": {},
   "outputs": [],
   "source": [
    "def unions(sequence):\n",
    "    for el in sequence:\n",
    "        assert isinstance(el, (set,frozenset)), el\n",
    "    return set([\n",
    "        union(combination )\n",
    "        for r in range(1,1+len(sequence))\n",
    "        for combination in itertools.combinations (sequence,r)\n",
    "    ])"
   ]
  },
  {
   "cell_type": "code",
   "execution_count": 206,
   "id": "essential-polymer",
   "metadata": {},
   "outputs": [],
   "source": [
    "def is_sigma(f):\n",
    "    for s in f:\n",
    "        assert isinstance(s,(set,frozenset)),s\n",
    "        assert s.issubset(Omega), s\n",
    "    if set() not in f:\n",
    "        raise Exception(\"Rule 1: empty set not in f\")\n",
    "\n",
    "    for s in f:\n",
    "        if complement(s) not in f: \n",
    "            raise Exception(f\"\"\"Rule 2: complement of {s} not in f\\n complement is {complement(s)}\"\"\")\n",
    "\n",
    "    for s in unions(f):\n",
    "        if s not in f:\n",
    "            raise Exception(f\"Rule 3: union combination {s} not in f\\n complement is {complement(s)}\")\n",
    "    return True"
   ]
  },
  {
   "cell_type": "code",
   "execution_count": 207,
   "id": "expanded-oriental",
   "metadata": {},
   "outputs": [],
   "source": [
    " \n",
    "hearts={\n",
    "    card \n",
    "    for card in Omega\n",
    "    if card[1]=='♥'\n",
    "}\n",
    "jacks={\n",
    "    card\n",
    "    for card in Omega\n",
    "    if card[0] =='J'\n",
    "}\n",
    "\n",
    "jh=set(['J♥'])"
   ]
  },
  {
   "cell_type": "markdown",
   "id": "abroad-horizon",
   "metadata": {},
   "source": [
    "## A very simple sigma-algebra"
   ]
  },
  {
   "cell_type": "code",
   "execution_count": 225,
   "id": "thousand-election",
   "metadata": {},
   "outputs": [
    {
     "data": {
      "text/plain": [
       "True"
      ]
     },
     "execution_count": 225,
     "metadata": {},
     "output_type": "execute_result"
    }
   ],
   "source": [
    "F=[\n",
    "    set(),\n",
    "    Omega\n",
    "]\n",
    "is_sigma(F)"
   ]
  },
  {
   "cell_type": "markdown",
   "id": "portable-recipient",
   "metadata": {},
   "source": [
    "### This is not a sigma-algebra:"
   ]
  },
  {
   "cell_type": "code",
   "execution_count": 230,
   "id": "looking-future",
   "metadata": {},
   "outputs": [
    {
     "ename": "Exception",
     "evalue": "Rule 2: complement of {'J♠', 'J♦', 'J♣', 'J♥'} not in f\n complement is {'8♣', 'K♠', 'A♣', '3♣', '7♣', '10♠', '5♦', '8♦', 'K♣', '5♥', '3♥', '2♦', '6♣', 'Q♦', '9♦', '9♠', '7♥', '4♣', '8♥', '2♠', 'Q♣', '3♦', '6♦', '10♦', 'K♥', '7♠', '4♥', 'A♠', '7♦', 'Q♥', '6♠', '5♣', 'K♦', 'A♥', '6♥', '2♥', '5♠', '4♠', 'Q♠', 'A♦', '9♥', '10♥', '2♣', '9♣', '8♠', '3♠', '10♣', '4♦'}",
     "output_type": "error",
     "traceback": [
      "\u001b[0;31m---------------------------------------------------------------------------\u001b[0m",
      "\u001b[0;31mException\u001b[0m                                 Traceback (most recent call last)",
      "\u001b[0;32m<ipython-input-230-ba66895503ab>\u001b[0m in \u001b[0;36m<module>\u001b[0;34m\u001b[0m\n\u001b[1;32m      4\u001b[0m     \u001b[0mjacks\u001b[0m\u001b[0;34m\u001b[0m\u001b[0;34m\u001b[0m\u001b[0m\n\u001b[1;32m      5\u001b[0m ]\n\u001b[0;32m----> 6\u001b[0;31m \u001b[0mis_sigma\u001b[0m\u001b[0;34m(\u001b[0m\u001b[0mF\u001b[0m\u001b[0;34m)\u001b[0m\u001b[0;34m\u001b[0m\u001b[0;34m\u001b[0m\u001b[0m\n\u001b[0m",
      "\u001b[0;32m<ipython-input-206-f30b890a0d4a>\u001b[0m in \u001b[0;36mis_sigma\u001b[0;34m(f)\u001b[0m\n\u001b[1;32m      8\u001b[0m     \u001b[0;32mfor\u001b[0m \u001b[0ms\u001b[0m \u001b[0;32min\u001b[0m \u001b[0mf\u001b[0m\u001b[0;34m:\u001b[0m\u001b[0;34m\u001b[0m\u001b[0;34m\u001b[0m\u001b[0m\n\u001b[1;32m      9\u001b[0m         \u001b[0;32mif\u001b[0m \u001b[0mcomplement\u001b[0m\u001b[0;34m(\u001b[0m\u001b[0ms\u001b[0m\u001b[0;34m)\u001b[0m \u001b[0;32mnot\u001b[0m \u001b[0;32min\u001b[0m \u001b[0mf\u001b[0m\u001b[0;34m:\u001b[0m\u001b[0;34m\u001b[0m\u001b[0;34m\u001b[0m\u001b[0m\n\u001b[0;32m---> 10\u001b[0;31m             \u001b[0;32mraise\u001b[0m \u001b[0mException\u001b[0m\u001b[0;34m(\u001b[0m\u001b[0;34mf\"\"\"Rule 2: complement of {s} not in f\\n complement is {complement(s)}\"\"\"\u001b[0m\u001b[0;34m)\u001b[0m\u001b[0;34m\u001b[0m\u001b[0;34m\u001b[0m\u001b[0m\n\u001b[0m\u001b[1;32m     11\u001b[0m \u001b[0;34m\u001b[0m\u001b[0m\n\u001b[1;32m     12\u001b[0m     \u001b[0;32mfor\u001b[0m \u001b[0ms\u001b[0m \u001b[0;32min\u001b[0m \u001b[0munions\u001b[0m\u001b[0;34m(\u001b[0m\u001b[0mf\u001b[0m\u001b[0;34m)\u001b[0m\u001b[0;34m:\u001b[0m\u001b[0;34m\u001b[0m\u001b[0;34m\u001b[0m\u001b[0m\n",
      "\u001b[0;31mException\u001b[0m: Rule 2: complement of {'J♠', 'J♦', 'J♣', 'J♥'} not in f\n complement is {'8♣', 'K♠', 'A♣', '3♣', '7♣', '10♠', '5♦', '8♦', 'K♣', '5♥', '3♥', '2♦', '6♣', 'Q♦', '9♦', '9♠', '7♥', '4♣', '8♥', '2♠', 'Q♣', '3♦', '6♦', '10♦', 'K♥', '7♠', '4♥', 'A♠', '7♦', 'Q♥', '6♠', '5♣', 'K♦', 'A♥', '6♥', '2♥', '5♠', '4♠', 'Q♠', 'A♦', '9♥', '10♥', '2♣', '9♣', '8♠', '3♠', '10♣', '4♦'}"
     ]
    }
   ],
   "source": [
    "F=[\n",
    "    set(),\n",
    "    Omega,\n",
    "    jacks\n",
    "]\n",
    "is_sigma(F)"
   ]
  },
  {
   "cell_type": "markdown",
   "id": "dominant-philadelphia",
   "metadata": {},
   "source": [
    "### But this is:"
   ]
  },
  {
   "cell_type": "code",
   "execution_count": 231,
   "id": "dutch-tanzania",
   "metadata": {},
   "outputs": [
    {
     "data": {
      "text/plain": [
       "True"
      ]
     },
     "execution_count": 231,
     "metadata": {},
     "output_type": "execute_result"
    }
   ],
   "source": [
    "F=[\n",
    "    set(),\n",
    "    Omega,\n",
    "    jacks,\n",
    "    complement(jacks)\n",
    "]\n",
    "is_sigma(F)"
   ]
  },
  {
   "cell_type": "markdown",
   "id": "valued-theater",
   "metadata": {},
   "source": [
    "### Even more complex case: computing probability measure of drawing a heart, a jack, or some other combination"
   ]
  },
  {
   "cell_type": "markdown",
   "id": "structured-cleaner",
   "metadata": {},
   "source": [
    "This is the smallest $\\sigma$algebra I could come up with"
   ]
  },
  {
   "cell_type": "code",
   "execution_count": 232,
   "id": "radio-daisy",
   "metadata": {},
   "outputs": [
    {
     "data": {
      "text/plain": [
       "True"
      ]
     },
     "execution_count": 232,
     "metadata": {},
     "output_type": "execute_result"
    }
   ],
   "source": [
    "F=[\n",
    "    set(),\n",
    "    Omega,\n",
    "    jacks,\n",
    "    complement(jacks),\n",
    "    hearts,\n",
    "    complement(hearts),\n",
    "    jh,\n",
    "    complement(jh),\n",
    "    \n",
    "     hearts | jacks,\n",
    "     complement(hearts | jacks),\n",
    "     hearts | complement(jacks),\n",
    "     complement(hearts) & (jacks),\n",
    "  \n",
    "     hearts & complement(jacks),\n",
    "     complement(hearts) | jacks,\n",
    "     (hearts|jacks) - jh,\n",
    "     complement((hearts|jacks) -jh)\n",
    " \n",
    "]\n",
    "\n",
    "is_sigma(F )"
   ]
  },
  {
   "cell_type": "markdown",
   "id": "elementary-union",
   "metadata": {},
   "source": [
    "## Alternatively:"
   ]
  },
  {
   "cell_type": "code",
   "execution_count": 233,
   "id": "handed-device",
   "metadata": {},
   "outputs": [
    {
     "data": {
      "text/plain": [
       "True"
      ]
     },
     "execution_count": 233,
     "metadata": {},
     "output_type": "execute_result"
    }
   ],
   "source": [
    "F=[\n",
    "    set(),\n",
    "    Omega,\n",
    "    jacks,\n",
    "    complement(jacks),\n",
    "    hearts,\n",
    "    complement(hearts),\n",
    "    jh,\n",
    "    complement(jh),\n",
    "     \n",
    "    jacks-hearts,\n",
    "    complement(jacks-hearts),\n",
    "    hearts-jacks,\n",
    "    complement(hearts-jacks),\n",
    "    (hearts|jacks)-jh,\n",
    "    complement((hearts|jacks)-jh),\n",
    "    hearts | jacks,\n",
    "    complement(hearts | jacks)\n",
    "]\n",
    "\n",
    "is_sigma(F )"
   ]
  },
  {
   "cell_type": "markdown",
   "id": "enclosed-generic",
   "metadata": {},
   "source": [
    "## Probability Measure"
   ]
  },
  {
   "cell_type": "code",
   "execution_count": 217,
   "id": "certified-switch",
   "metadata": {},
   "outputs": [],
   "source": [
    "def P(s):\n",
    "    assert s.issubset(Omega)\n",
    "    return fractions.Fraction(len(s),len(Omega))"
   ]
  },
  {
   "cell_type": "code",
   "execution_count": 219,
   "id": "arctic-qualification",
   "metadata": {},
   "outputs": [
    {
     "data": {
      "text/plain": [
       "Fraction(1, 13)"
      ]
     },
     "execution_count": 219,
     "metadata": {},
     "output_type": "execute_result"
    }
   ],
   "source": [
    "P(jacks)"
   ]
  },
  {
   "cell_type": "code",
   "execution_count": 220,
   "id": "great-light",
   "metadata": {},
   "outputs": [
    {
     "data": {
      "text/plain": [
       "Fraction(1, 1)"
      ]
     },
     "execution_count": 220,
     "metadata": {},
     "output_type": "execute_result"
    }
   ],
   "source": [
    "P(jacks) + P(complement(jacks))"
   ]
  },
  {
   "cell_type": "code",
   "execution_count": 221,
   "id": "occasional-removal",
   "metadata": {},
   "outputs": [
    {
     "data": {
      "text/plain": [
       "Fraction(1, 1)"
      ]
     },
     "execution_count": 221,
     "metadata": {},
     "output_type": "execute_result"
    }
   ],
   "source": [
    "P(hearts) + P(complement(hearts))"
   ]
  },
  {
   "cell_type": "code",
   "execution_count": 222,
   "id": "functioning-investing",
   "metadata": {},
   "outputs": [
    {
     "data": {
      "text/plain": [
       "Fraction(3, 52)"
      ]
     },
     "execution_count": 222,
     "metadata": {},
     "output_type": "execute_result"
    }
   ],
   "source": [
    "P(complement(hearts).intersection(jacks))"
   ]
  },
  {
   "cell_type": "code",
   "execution_count": null,
   "id": "scenic-gates",
   "metadata": {},
   "outputs": [],
   "source": []
  }
 ],
 "metadata": {
  "kernelspec": {
   "display_name": "Python 3",
   "language": "python",
   "name": "python3"
  },
  "language_info": {
   "codemirror_mode": {
    "name": "ipython",
    "version": 3
   },
   "file_extension": ".py",
   "mimetype": "text/x-python",
   "name": "python",
   "nbconvert_exporter": "python",
   "pygments_lexer": "ipython3",
   "version": "3.6.10"
  }
 },
 "nbformat": 4,
 "nbformat_minor": 5
}
